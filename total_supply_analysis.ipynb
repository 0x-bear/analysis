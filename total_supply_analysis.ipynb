{
 "cells": [
  {
   "cell_type": "code",
   "execution_count": 1,
   "metadata": {},
   "outputs": [
    {
     "name": "stdout",
     "output_type": "stream",
     "text": [
      "Initial Deposit: x_needed=1, y_needed=0, lp_out=0\n",
      "For APY = 20.0%: y_needed=0.8103505998080281\n",
      "Resulting APY= 19.209383884445156%\n",
      "Deposit: x_needed=0.25642873645225706, y_needed=1 for lp shares=1.2340337629624756\n",
      "x_reserves=0.4642259168443583, y_reserves=1.8103505998080283, total_supply=2.2340337629624756 estimate_total_supply=2.1888281668621588\n",
      "Deposit: x_needed=0.25642873645225706, y_needed=1 for lp shares=1.2340337629624754\n",
      "x_reserves=0.7206546532966154, y_reserves=2.8103505998080283, total_supply=3.468067525924951 estimate_total_supply=3.397891299215784\n",
      "Deposit: x_needed=0.25642873645225706, y_needed=1 for lp shares=1.2340337629624756\n",
      "x_reserves=0.9770833897488724, y_reserves=3.8103505998080283, total_supply=4.702101288887427 estimate_total_supply=4.606954431569409\n"
     ]
    }
   ],
   "source": [
    "import numpy as np\n",
    "import math \n",
    "import pandas as pd\n",
    "from pandas.io.json import json_normalize\n",
    "import json\n",
    "import sys  \n",
    "sys.path.insert(0, './scripts')\n",
    "from PricingModels import *\n",
    "\n",
    "# initialize pool\n",
    "x_reserves = 0\n",
    "y_reserves = 0\n",
    "x_in = 1\n",
    "y_in = 0\n",
    "total_supply = 0\n",
    "(x_needed, y_needed, lp_out) = Element_Pricing_Model.calc_lp_out_given_tokens_in(x_in, y_in, x_reserves, y_reserves, total_supply)\n",
    "print(\"Initial Deposit: x_needed={:}, y_needed={:}, lp_out={:}\".format(x_needed, y_needed, total_supply) )\n",
    "\n",
    "# calculate what trade to make to set APY\n",
    "x_reserves += x_in\n",
    "y_reserves += y_in\n",
    "total_supply += lp_out\n",
    "APY = .2\n",
    "ts=11\n",
    "days_until_maturity=90\n",
    "t=days_until_maturity/(365*ts)\n",
    "T=days_until_maturity/365\n",
    "y_needed = x_reserves * ((1-APY*T)**(1/-t)-1)/(1+(1-APY*T)**(1/-t))\n",
    "print(\"For APY = {:}%: y_needed={:}\".format(APY*100,y_needed) )\n",
    "\n",
    "(without_fee_or_slippage,with_fee,without_fee,fee) = Element_Pricing_Model.calc_out_given_in(y_needed,y_reserves+total_supply,x_reserves,\"base\",.1,t)\n",
    "x_reserves -= with_fee\n",
    "y_reserves += y_needed\n",
    "price = Element_Pricing_Model.fyt_price(x_reserves,y_reserves,total_supply,t)\n",
    "APY = Element_Pricing_Model.apy(price,days_until_maturity)\n",
    "print(\"Resulting APY= {:}%\".format(APY) )\n",
    "\n",
    "x_in = 1\n",
    "y_in = 1\n",
    "(x_needed, y_needed, lp_out) = Element_Pricing_Model.calc_lp_out_given_tokens_in(x_in, y_in, x_reserves, y_reserves, total_supply)\n",
    "x_in = x_needed\n",
    "y_in = y_needed\n",
    "(x_needed, y_needed, lp_out) = Element_Pricing_Model.calc_lp_out_given_tokens_in(x_in, y_in, x_reserves, y_reserves, total_supply)\n",
    "print(\"Deposit: x_needed={:}, y_needed={:} for lp shares={:}\".format(x_needed, y_needed, lp_out))\n",
    "x_reserves += x_in\n",
    "y_reserves += y_in\n",
    "total_supply+=lp_out\n",
    "print(\"x_reserves={:}, y_reserves={:}, total_supply={:} estimate_total_supply={:}\".format(x_reserves, y_reserves, total_supply, x_reserves+price*y_reserves) )\n",
    "\n",
    "x_in = 1\n",
    "y_in = 1\n",
    "(x_needed, y_needed, lp_out) = Element_Pricing_Model.calc_lp_out_given_tokens_in(x_in, y_in, x_reserves, y_reserves, total_supply)\n",
    "x_in = x_needed\n",
    "y_in = y_needed\n",
    "(x_needed, y_needed, lp_out) = Element_Pricing_Model.calc_lp_out_given_tokens_in(x_in, y_in, x_reserves, y_reserves, total_supply)\n",
    "print(\"Deposit: x_needed={:}, y_needed={:} for lp shares={:}\".format(x_needed, y_needed, lp_out))\n",
    "x_reserves += x_in\n",
    "y_reserves += y_in\n",
    "total_supply+=lp_out\n",
    "print(\"x_reserves={:}, y_reserves={:}, total_supply={:} estimate_total_supply={:}\".format(x_reserves, y_reserves, total_supply, x_reserves+price*y_reserves) )\n",
    "\n",
    "x_in = 1\n",
    "y_in = 1\n",
    "(x_needed, y_needed, lp_out) = Element_Pricing_Model.calc_lp_out_given_tokens_in(x_in, y_in, x_reserves, y_reserves, total_supply)\n",
    "x_in = x_needed\n",
    "y_in = y_needed\n",
    "(x_needed, y_needed, lp_out) = Element_Pricing_Model.calc_lp_out_given_tokens_in(x_in, y_in, x_reserves, y_reserves, total_supply)\n",
    "print(\"Deposit: x_needed={:}, y_needed={:} for lp shares={:}\".format(x_needed, y_needed, lp_out))\n",
    "x_reserves += x_in\n",
    "y_reserves += y_in\n",
    "total_supply+=lp_out\n",
    "print(\"x_reserves={:}, y_reserves={:}, total_supply={:} estimate_total_supply={:}\".format(x_reserves, y_reserves, total_supply, x_reserves+price*y_reserves) )\n"
   ]
  },
  {
   "cell_type": "code",
   "execution_count": 8,
   "metadata": {},
   "outputs": [
    {
     "name": "stdout",
     "output_type": "stream",
     "text": [
      "Resulting APY= 10.00000000000005%\n"
     ]
    }
   ],
   "source": [
    "# verify calc_x_reserves(APY,y_reserves,days_until_maturity,time_stretch):\n",
    "\n",
    "y_reserves=50\n",
    "ts=11\n",
    "days_until_maturity=90\n",
    "t=days_until_maturity/(365*ts)\n",
    "APY = 10\n",
    "x_reserves = Element_Pricing_Model.calc_x_reserves(APY,y_reserves,days_until_maturity,ts)\n",
    "total_supply = y_reserves + x_reserves\n",
    "price = Element_Pricing_Model.fyt_price(x_reserves,y_reserves,total_supply,t)\n",
    "APY = Element_Pricing_Model.apy(price,days_until_maturity)\n",
    "print(\"Resulting APY= {:}%\".format(APY) )\n",
    "\n",
    "\n"
   ]
  },
  {
   "cell_type": "code",
   "execution_count": null,
   "metadata": {},
   "outputs": [],
   "source": []
  },
  {
   "cell_type": "code",
   "execution_count": 2,
   "metadata": {},
   "outputs": [
    {
     "data": {
      "text/plain": [
       "0.8164965809277261"
      ]
     },
     "metadata": {},
     "output_type": "display_data"
    },
    {
     "data": {
      "text/plain": [
       "0.4283729905961321"
      ]
     },
     "execution_count": 2,
     "metadata": {},
     "output_type": "execute_result"
    }
   ],
   "source": [
    "x_reserves=100\n",
    "y_reserves=50\n",
    "total_supply = 100\n",
    "\n",
    "\n",
    "(without_fee_or_slippage,with_fee,without_fee,fee) = Element_Pricing_Model.calc_out_given_in(1,y_reserves+total_supply,x_reserves,\"base\",.1,.5)\n",
    "\n",
    "display(without_fee_or_slippage)\n",
    "(1-without_fee_or_slippage)**(.5)"
   ]
  },
  {
   "cell_type": "code",
   "execution_count": 3,
   "metadata": {},
   "outputs": [
    {
     "data": {
      "text/plain": [
       "0.40439810740339527"
      ]
     },
     "execution_count": 3,
     "metadata": {},
     "output_type": "execute_result"
    }
   ],
   "source": [
    "x_reserves = 1\n",
    "total_supply = 1\n",
    "APR = .1\n",
    "ts=9\n",
    "t=90/(365*ts)\n",
    "y_needed = x_reserves * ((APR+1)**(ts)-1)/(1+(APR+1)**(ts))\n",
    "y_needed"
   ]
  },
  {
   "cell_type": "code",
   "execution_count": 4,
   "metadata": {},
   "outputs": [
    {
     "data": {
      "text/plain": [
       "9.41989529085197"
      ]
     },
     "execution_count": 4,
     "metadata": {},
     "output_type": "execute_result"
    }
   ],
   "source": [
    "price = ((y_needed+total_supply)/(x_reserves-y_needed))**-t\n",
    "T=90/365\n",
    "(1-price)/T * 100\n"
   ]
  },
  {
   "cell_type": "code",
   "execution_count": 5,
   "metadata": {},
   "outputs": [
    {
     "data": {
      "text/plain": [
       "0.4265247453287612"
      ]
     },
     "execution_count": 5,
     "metadata": {},
     "output_type": "execute_result"
    }
   ],
   "source": [
    "x_reserves = 1\n",
    "total_supply = 1\n",
    "APR = .1\n",
    "ts=9\n",
    "t=90/(365*ts)\n",
    "T=90/365\n",
    "y_needed = x_reserves * ((1-APR*T)**(1/-t)-1)/(1+(1-APR*T)**(1/-t))\n",
    "y_needed"
   ]
  },
  {
   "cell_type": "code",
   "execution_count": 6,
   "metadata": {},
   "outputs": [
    {
     "data": {
      "text/plain": [
       "10.000000000000005"
      ]
     },
     "execution_count": 6,
     "metadata": {},
     "output_type": "execute_result"
    }
   ],
   "source": [
    "price = ((y_needed+total_supply)/(x_reserves-y_needed))**-t\n",
    "T=90/365\n",
    "(1-price)/T * 100"
   ]
  },
  {
   "cell_type": "code",
   "execution_count": null,
   "metadata": {},
   "outputs": [],
   "source": []
  }
 ],
 "metadata": {
  "kernelspec": {
   "display_name": "Python 3",
   "language": "python",
   "name": "python3"
  },
  "language_info": {
   "codemirror_mode": {
    "name": "ipython",
    "version": 3
   },
   "file_extension": ".py",
   "mimetype": "text/x-python",
   "name": "python",
   "nbconvert_exporter": "python",
   "pygments_lexer": "ipython3",
   "version": "3.8.5"
  }
 },
 "nbformat": 4,
 "nbformat_minor": 2
}
