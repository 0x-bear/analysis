{
 "cells": [
  {
   "cell_type": "code",
   "execution_count": 10,
   "metadata": {},
   "outputs": [
    {
     "name": "stdout",
     "output_type": "stream",
     "text": [
      "Initial Deposit: x_needed=1, y_needed=0, lp_out=0\n",
      "For APY = 10.0%: y_needed=0.5109574681419862\n",
      "Resulting APY= 9.77091654672286%\n",
      "Deposit: x_needed=0.9828032947108526, y_needed=1 for lp shares=1.957110057782965\n",
      "x_reserves=1.484973977857912, y_reserves=1.5109574681419862, total_supply=2.957110057782965 estimate_total_supply=2.923125443840026\n",
      "Deposit: x_needed=0.9828032947108526, y_needed=1 for lp shares=1.9571100577829652\n",
      "x_reserves=2.467777272568765, y_reserves=2.510957468141986, total_supply=4.91422011556593 estimate_total_supply=4.857743396676629\n",
      "Deposit: x_needed=0.9828032947108527, y_needed=1 for lp shares=1.9571100577829652\n",
      "x_reserves=3.4505805672796175, y_reserves=3.510957468141986, total_supply=6.871330173348896 estimate_total_supply=6.792361349513232\n"
     ]
    }
   ],
   "source": [
    "import numpy as np\n",
    "import math \n",
    "import pandas as pd\n",
    "from pandas.io.json import json_normalize\n",
    "import json\n",
    "import sys  \n",
    "sys.path.insert(0, './scripts')\n",
    "from PricingModels import *\n",
    "\n",
    "# initialize pool\n",
    "x_reserves = 0\n",
    "y_reserves = 0\n",
    "x_in = 1\n",
    "y_in = 0\n",
    "total_supply = 0\n",
    "(x_needed, y_needed, lp_out) = Element_Pricing_Model.calc_lp_out_given_tokens_in(x_in, y_in, x_reserves, y_reserves, total_supply)\n",
    "print(\"Initial Deposit: x_needed={:}, y_needed={:}, lp_out={:}\".format(x_needed, y_needed, total_supply) )\n",
    "\n",
    "# calculate what trade to make to set APY\n",
    "x_reserves += x_in\n",
    "y_reserves += y_in\n",
    "total_supply += lp_out\n",
    "APY = .1\n",
    "ts=11\n",
    "days_until_maturity=180\n",
    "t=days_until_maturity/(365*ts)\n",
    "T=days_until_maturity/365\n",
    "y_needed = x_reserves * ((1-APY*T)**(1/-t)-1)/(1+(1-APY*T)**(1/-t))\n",
    "print(\"For APY = {:}%: y_needed={:}\".format(APY*100,y_needed) )\n",
    "\n",
    "(without_fee_or_slippage,with_fee,without_fee,fee) = Element_Pricing_Model.calc_out_given_in(y_needed,y_reserves+total_supply,x_reserves,\"base\",.1,t)\n",
    "x_reserves -= with_fee\n",
    "y_reserves += y_needed\n",
    "price = Element_Pricing_Model.fyt_price(x_reserves,y_reserves,total_supply,t)\n",
    "APY = Element_Pricing_Model.apy(price,days_until_maturity)\n",
    "print(\"Resulting APY= {:}%\".format(APY) )\n",
    "\n",
    "x_in = 1\n",
    "y_in = 1\n",
    "(x_needed, y_needed, lp_out) = Element_Pricing_Model.calc_lp_out_given_tokens_in(x_in, y_in, x_reserves, y_reserves, total_supply)\n",
    "x_in = x_needed\n",
    "y_in = y_needed\n",
    "(x_needed, y_needed, lp_out) = Element_Pricing_Model.calc_lp_out_given_tokens_in(x_in, y_in, x_reserves, y_reserves, total_supply)\n",
    "print(\"Deposit: x_needed={:}, y_needed={:} for lp shares={:}\".format(x_needed, y_needed, lp_out))\n",
    "x_reserves += x_in\n",
    "y_reserves += y_in\n",
    "total_supply+=lp_out\n",
    "print(\"x_reserves={:}, y_reserves={:}, total_supply={:} estimate_total_supply={:}\".format(x_reserves, y_reserves, total_supply, x_reserves+price*y_reserves) )\n",
    "\n",
    "x_in = 1\n",
    "y_in = 1\n",
    "(x_needed, y_needed, lp_out) = Element_Pricing_Model.calc_lp_out_given_tokens_in(x_in, y_in, x_reserves, y_reserves, total_supply)\n",
    "x_in = x_needed\n",
    "y_in = y_needed\n",
    "(x_needed, y_needed, lp_out) = Element_Pricing_Model.calc_lp_out_given_tokens_in(x_in, y_in, x_reserves, y_reserves, total_supply)\n",
    "print(\"Deposit: x_needed={:}, y_needed={:} for lp shares={:}\".format(x_needed, y_needed, lp_out))\n",
    "x_reserves += x_in\n",
    "y_reserves += y_in\n",
    "total_supply+=lp_out\n",
    "print(\"x_reserves={:}, y_reserves={:}, total_supply={:} estimate_total_supply={:}\".format(x_reserves, y_reserves, total_supply, x_reserves+price*y_reserves) )\n",
    "\n",
    "x_in = 1\n",
    "y_in = 1\n",
    "(x_needed, y_needed, lp_out) = Element_Pricing_Model.calc_lp_out_given_tokens_in(x_in, y_in, x_reserves, y_reserves, total_supply)\n",
    "x_in = x_needed\n",
    "y_in = y_needed\n",
    "(x_needed, y_needed, lp_out) = Element_Pricing_Model.calc_lp_out_given_tokens_in(x_in, y_in, x_reserves, y_reserves, total_supply)\n",
    "print(\"Deposit: x_needed={:}, y_needed={:} for lp shares={:}\".format(x_needed, y_needed, lp_out))\n",
    "x_reserves += x_in\n",
    "y_reserves += y_in\n",
    "total_supply+=lp_out\n",
    "print(\"x_reserves={:}, y_reserves={:}, total_supply={:} estimate_total_supply={:}\".format(x_reserves, y_reserves, total_supply, x_reserves+price*y_reserves) )\n"
   ]
  },
  {
   "cell_type": "code",
   "execution_count": 9,
   "metadata": {},
   "outputs": [
    {
     "name": "stdout",
     "output_type": "stream",
     "text": [
      "Resulting APY= 9.883913896879843%\n",
      "Resulting APY= 9.883913896879843%\n"
     ]
    }
   ],
   "source": [
    "x_reserves = 1.4913009149785703\n",
    "y_reserves = 1.505669564665173\n",
    "total_supply = 2.9775760098635677\n",
    "ts=11\n",
    "days_until_maturity=90\n",
    "t=days_until_maturity/(365*ts)\n",
    "\n",
    "(x_reserves/(y_reserves + total_supply))**t\n",
    "APY = Element_Pricing_Model.apy(price,days_until_maturity)\n",
    "print(\"Resulting APY= {:}%\".format(APY) )\n",
    "\n",
    "\n",
    "x_needed = 0.9904569700923735\n",
    "y_needed = 1\n",
    "total_supply = 1.9775760098635675\n",
    "ts=11\n",
    "days_until_maturity=90\n",
    "t=days_until_maturity/(365*ts)\n",
    "\n",
    "(x_needed/(y_needed + total_supply))**t\n",
    "APY = Element_Pricing_Model.apy(price,days_until_maturity)\n",
    "print(\"Resulting APY= {:}%\".format(APY) )\n",
    "\n"
   ]
  },
  {
   "cell_type": "code",
   "execution_count": 11,
   "metadata": {},
   "outputs": [
    {
     "name": "stdout",
     "output_type": "stream",
     "text": [
      "Resulting APY= 9.77091654672286%\n",
      "Resulting APY= 9.77091654672286%\n"
     ]
    }
   ],
   "source": [
    "x_reserves = 1.484973977857912\n",
    "y_reserves = 1.5109574681419862\n",
    "total_supply = 2.957110057782965\n",
    "ts=11\n",
    "days_until_maturity=180\n",
    "t=days_until_maturity/(365*ts)\n",
    "\n",
    "(x_reserves/(y_reserves + total_supply))**t\n",
    "APY = Element_Pricing_Model.apy(price,days_until_maturity)\n",
    "print(\"Resulting APY= {:}%\".format(APY) )\n",
    "\n",
    "\n",
    "x_needed = 0.9828032947108526\n",
    "y_needed = 1\n",
    "total_supply = 1.957110057782965\n",
    "ts=11\n",
    "days_until_maturity=180\n",
    "t=days_until_maturity/(365*ts)\n",
    "\n",
    "(x_needed/(y_needed + total_supply))**t\n",
    "APY = Element_Pricing_Model.apy(price,days_until_maturity)\n",
    "print(\"Resulting APY= {:}%\".format(APY) )\n"
   ]
  },
  {
   "cell_type": "code",
   "execution_count": 8,
   "metadata": {},
   "outputs": [
    {
     "name": "stdout",
     "output_type": "stream",
     "text": [
      "Resulting APY= 10.00000000000005%\n"
     ]
    }
   ],
   "source": [
    "# verify calc_x_reserves(APY,y_reserves,days_until_maturity,time_stretch):\n",
    "\n",
    "y_reserves=50\n",
    "ts=11\n",
    "days_until_maturity=90\n",
    "t=days_until_maturity/(365*ts)\n",
    "APY = 10\n",
    "x_reserves = Element_Pricing_Model.calc_x_reserves(APY,y_reserves,days_until_maturity,ts)\n",
    "total_supply = y_reserves + x_reserves\n",
    "price = Element_Pricing_Model.fyt_price(x_reserves,y_reserves,total_supply,t)\n",
    "APY = Element_Pricing_Model.apy(price,days_until_maturity)\n",
    "print(\"Resulting APY= {:}%\".format(APY) )\n",
    "\n",
    "\n"
   ]
  },
  {
   "cell_type": "code",
   "execution_count": null,
   "metadata": {},
   "outputs": [],
   "source": []
  },
  {
   "cell_type": "code",
   "execution_count": 2,
   "metadata": {},
   "outputs": [
    {
     "data": {
      "text/plain": [
       "0.8164965809277261"
      ]
     },
     "metadata": {},
     "output_type": "display_data"
    },
    {
     "data": {
      "text/plain": [
       "0.4283729905961321"
      ]
     },
     "execution_count": 2,
     "metadata": {},
     "output_type": "execute_result"
    }
   ],
   "source": [
    "x_reserves=100\n",
    "y_reserves=50\n",
    "total_supply = 100\n",
    "\n",
    "\n",
    "(without_fee_or_slippage,with_fee,without_fee,fee) = Element_Pricing_Model.calc_out_given_in(1,y_reserves+total_supply,x_reserves,\"base\",.1,.5)\n",
    "\n",
    "display(without_fee_or_slippage)\n",
    "(1-without_fee_or_slippage)**(.5)"
   ]
  },
  {
   "cell_type": "code",
   "execution_count": 3,
   "metadata": {},
   "outputs": [
    {
     "data": {
      "text/plain": [
       "0.40439810740339527"
      ]
     },
     "execution_count": 3,
     "metadata": {},
     "output_type": "execute_result"
    }
   ],
   "source": [
    "x_reserves = 1\n",
    "total_supply = 1\n",
    "APR = .1\n",
    "ts=9\n",
    "t=90/(365*ts)\n",
    "y_needed = x_reserves * ((APR+1)**(ts)-1)/(1+(APR+1)**(ts))\n",
    "y_needed"
   ]
  },
  {
   "cell_type": "code",
   "execution_count": 4,
   "metadata": {},
   "outputs": [
    {
     "data": {
      "text/plain": [
       "9.41989529085197"
      ]
     },
     "execution_count": 4,
     "metadata": {},
     "output_type": "execute_result"
    }
   ],
   "source": [
    "price = ((y_needed+total_supply)/(x_reserves-y_needed))**-t\n",
    "T=90/365\n",
    "(1-price)/T * 100\n"
   ]
  },
  {
   "cell_type": "code",
   "execution_count": 5,
   "metadata": {},
   "outputs": [
    {
     "data": {
      "text/plain": [
       "0.4265247453287612"
      ]
     },
     "execution_count": 5,
     "metadata": {},
     "output_type": "execute_result"
    }
   ],
   "source": [
    "x_reserves = 1\n",
    "total_supply = 1\n",
    "APR = .1\n",
    "ts=9\n",
    "t=90/(365*ts)\n",
    "T=90/365\n",
    "y_needed = x_reserves * ((1-APR*T)**(1/-t)-1)/(1+(1-APR*T)**(1/-t))\n",
    "y_needed"
   ]
  },
  {
   "cell_type": "code",
   "execution_count": 6,
   "metadata": {},
   "outputs": [
    {
     "data": {
      "text/plain": [
       "10.000000000000005"
      ]
     },
     "execution_count": 6,
     "metadata": {},
     "output_type": "execute_result"
    }
   ],
   "source": [
    "price = ((y_needed+total_supply)/(x_reserves-y_needed))**-t\n",
    "T=90/365\n",
    "(1-price)/T * 100"
   ]
  },
  {
   "cell_type": "code",
   "execution_count": null,
   "metadata": {},
   "outputs": [],
   "source": []
  }
 ],
 "metadata": {
  "kernelspec": {
   "display_name": "Python 3",
   "language": "python",
   "name": "python3"
  },
  "language_info": {
   "codemirror_mode": {
    "name": "ipython",
    "version": 3
   },
   "file_extension": ".py",
   "mimetype": "text/x-python",
   "name": "python",
   "nbconvert_exporter": "python",
   "pygments_lexer": "ipython3",
   "version": "3.8.5"
  }
 },
 "nbformat": 4,
 "nbformat_minor": 2
}
